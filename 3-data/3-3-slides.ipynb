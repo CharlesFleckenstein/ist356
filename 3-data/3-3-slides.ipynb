{
 "cells": [
  {
   "cell_type": "markdown",
   "metadata": {},
   "source": [
    "# Data 3-3 Multiple Pandas Dataframes\n",
    "\n",
    "Working with multiple dataframes: Concat, Merge, resetting the index, join types\n"
   ]
  }
 ],
 "metadata": {
  "language_info": {
   "name": "python"
  }
 },
 "nbformat": 4,
 "nbformat_minor": 2
}
