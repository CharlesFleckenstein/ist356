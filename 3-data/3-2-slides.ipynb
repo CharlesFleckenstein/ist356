{
 "cells": [
  {
   "cell_type": "markdown",
   "metadata": {},
   "source": [
    "# Data 3-2 Pandas I/O\n",
    "\n",
    "Loading / saving, file formats json, csv, parquet, pickle, HTML, json_normalize"
   ]
  }
 ],
 "metadata": {
  "language_info": {
   "name": "python"
  }
 },
 "nbformat": 4,
 "nbformat_minor": 2
}
