{
 "cells": [
  {
   "cell_type": "markdown",
   "id": "7964baf8-149b-4a2d-9d16-2f4e1b9bda96",
   "metadata": {},
   "source": [
    "# Python 1.3\n",
    "\n",
    "Functions, documentaion, strings, files"
   ]
  },
  {
   "cell_type": "code",
   "execution_count": null,
   "id": "8cd61959-1f96-4141-b64f-cc27318780fd",
   "metadata": {},
   "outputs": [],
   "source": []
  }
 ],
 "metadata": {
  "kernelspec": {
   "display_name": "Python 3 (ipykernel)",
   "language": "python",
   "name": "python3"
  },
  "language_info": {
   "codemirror_mode": {
    "name": "ipython",
    "version": 3
   },
   "file_extension": ".py",
   "mimetype": "text/x-python",
   "name": "python",
   "nbconvert_exporter": "python",
   "pygments_lexer": "ipython3",
   "version": "3.11.7"
  }
 },
 "nbformat": 4,
 "nbformat_minor": 5
}
