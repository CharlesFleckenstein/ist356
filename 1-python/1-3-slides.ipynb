{
 "cells": [
  {
   "cell_type": "markdown",
   "id": "7964baf8-149b-4a2d-9d16-2f4e1b9bda96",
   "metadata": {},
   "source": [
    "# Python 1.3\n",
    "\n",
    "Functions, documentaion, strings, files"
   ]
  },
  {
   "cell_type": "markdown",
   "id": "be891bad-5d39-4d84-9403-6b5edbf02585",
   "metadata": {},
   "source": [
    "# Functions\n",
    "\n",
    "- `def` to create your function\n",
    "- calling your function (arguments)\n",
    "- docstrings\n",
    "- named arguments"
   ]
  },
  {
   "cell_type": "markdown",
   "id": "557010bb-11a9-4687-b3bc-d9ef41ff9e68",
   "metadata": {},
   "source": [
    "## What are functions?\n",
    "\n",
    "- A **Function** is a named sequence of statements which accomplish a task. They promote modularity, making our code less complex, easier to understand and encourage code-reuse. \n",
    "- When you “run” a defined function it’s known as a **function call**. Functions are designed to be ***written once***, but ***called many times***.\n",
    "- We've seen functions before:  "
   ]
  },
  {
   "cell_type": "code",
   "execution_count": 2,
   "id": "f43c2f07-775a-42fa-9c31-363a3493b849",
   "metadata": {
    "tags": []
   },
   "outputs": [
    {
     "name": "stdin",
     "output_type": "stream",
     "text": [
      "Enter Name:  tony\n"
     ]
    },
    {
     "name": "stdout",
     "output_type": "stream",
     "text": [
      "tony 4 9\n"
     ]
    }
   ],
   "source": [
    "# We call functions all the time\n",
    "# input(). random.randint(), and int() are all functions!\n",
    "import random\n",
    "x = input(\"Enter Name: \")  \n",
    "y = random.randint(1,10)  #random is the module, randint() is the function\n",
    "z = int(\"9\")\n",
    "print(x,y,z)"
   ]
  },
  {
   "cell_type": "markdown",
   "id": "9f51c5a4-383b-4faf-bb6e-7976ca8c2650",
   "metadata": {},
   "source": [
    "## Function Definitions\n",
    "\n",
    "- Functions are like their own little programs. They take input, which we call the **function arguments (or parameters)** and give us back output that we refer to as **return values**.\n",
    "\n",
    "```\n",
    "INPUT      -=> PROCESS     ==> OUTPUT\n",
    "Function   ==> Function    ==> Function \n",
    "Arguments      Definition       Return\n",
    "\n",
    "```\n"
   ]
  },
  {
   "cell_type": "code",
   "execution_count": 3,
   "id": "e977dce6-f50e-4252-b088-d02cc80c7e96",
   "metadata": {
    "tags": []
   },
   "outputs": [
    {
     "name": "stdout",
     "output_type": "stream",
     "text": [
      "25.0\n"
     ]
    }
   ],
   "source": [
    "# Example Function\n",
    "def area_of_triangle(base, height): # <== INPUTs\n",
    "    area = 0.5 * base *height\n",
    "    return area # <== OUTPUT\n",
    "\n",
    "# Function call: using your function\n",
    "a = area_of_triangle(10,5)\n",
    "print(a)"
   ]
  },
  {
   "cell_type": "code",
   "execution_count": 6,
   "id": "daadd517-00cc-4005-a28e-a4700617f8ec",
   "metadata": {
    "tags": []
   },
   "outputs": [
    {
     "name": "stdout",
     "output_type": "stream",
     "text": [
      "25.0 25.0\n"
     ]
    }
   ],
   "source": [
    "# When you call a function you can name your arguments:\n",
    "# This allows you to override the order of the arguments\n",
    "\n",
    "# These are the same order as defined\n",
    "area1 = area_of_triangle(base=10, height=5)\n",
    "# Different order than defined\n",
    "area2 = area_of_triangle(height=5, base=10)\n",
    "print(area1, area2)"
   ]
  },
  {
   "cell_type": "markdown",
   "id": "21bae3ab-f92b-42f7-9c2a-4428947c04f6",
   "metadata": {},
   "source": [
    "## Challenge 1-3-1\n",
    "\n",
    "Write a function called `average` which takes a list of numbers as input then outputs the average of the numbers sum / count\n",
    "\n",
    "Call your function with an arbitrary list of numbers you create.\n"
   ]
  },
  {
   "cell_type": "markdown",
   "id": "e03466c9-508a-45be-99d3-493e80b95ec0",
   "metadata": {},
   "source": [
    "## Type Hints\n",
    "\n",
    "Types can be added to the `def` statement to help the caller understand what type of data the function expects. These are known as **type hints**\n",
    "\n",
    "In this example the expected arguments are `float` and the return is `float`"
   ]
  },
  {
   "cell_type": "code",
   "execution_count": 7,
   "id": "799977db-36d4-4a72-be43-857b5232a1b0",
   "metadata": {
    "tags": []
   },
   "outputs": [],
   "source": [
    "def area_of_triangle(base: float, height: float) -> float: \n",
    "    area = 0.5 * base *height\n",
    "    return area\n"
   ]
  },
  {
   "cell_type": "markdown",
   "id": "a7da103d-f50e-45ab-8466-c0bd13af0c86",
   "metadata": {},
   "source": [
    "You can see type hints in action by calling the function\n",
    "\n",
    "Run the cell above to create the function.  \n",
    "In the code below, start a left paren `(` to see the type hints"
   ]
  },
  {
   "cell_type": "code",
   "execution_count": null,
   "id": "271ca32d-fd60-455e-bd25-023e4ac87e71",
   "metadata": {},
   "outputs": [],
   "source": [
    "area_of_triangle"
   ]
  },
  {
   "cell_type": "markdown",
   "id": "c7388627-6aa9-40c0-bb8b-4b8b405e68b4",
   "metadata": {},
   "source": [
    "## Docstrings\n",
    "\n",
    "A **Docstring** is a  multi-line comment which explains what the function does to the function caller.\n",
    "\n",
    "The same function with type hints and docstring:\n"
   ]
  },
  {
   "cell_type": "code",
   "execution_count": 9,
   "id": "973be2e2-2e10-4ef8-806c-ddf30c205193",
   "metadata": {
    "tags": []
   },
   "outputs": [],
   "source": [
    "def area_of_triangle(base: float, height: float) -> float: \n",
    "    '''\n",
    "    Calculates the area of a triangle given base and height\n",
    "    returns the area defined as 1/2 the base times height\n",
    "    '''\n",
    "    area = 0.5 * base *height\n",
    "    return area\n"
   ]
  },
  {
   "cell_type": "markdown",
   "id": "08c6c10e-cf05-4de7-b5ff-1f67fca8dc1d",
   "metadata": {},
   "source": [
    "You can see doc strings in action by calling the function\n",
    "\n",
    "Run the cell above to create the function.  \n",
    "In the code below, start a left paren `(` to see the doc string"
   ]
  },
  {
   "cell_type": "code",
   "execution_count": null,
   "id": "8d4e0798-8eb4-4c2c-a27d-2eafc6c940cb",
   "metadata": {},
   "outputs": [],
   "source": [
    "area_of_triangle"
   ]
  },
  {
   "cell_type": "markdown",
   "id": "ca2be54f-b10b-45ca-be8e-c1c552abf1c0",
   "metadata": {},
   "source": [
    "# Strings\n",
    "\n",
    "- string slices\n",
    "- string methods\n",
    "- text processing"
   ]
  },
  {
   "cell_type": "markdown",
   "id": "5a8ecfd5-7423-4f20-a319-6e65f872b1ce",
   "metadata": {
    "tags": []
   },
   "source": [
    "## String are sequence types\n",
    "\n",
    "You can use slice notation like with lists.\n",
    "\n",
    "These are zero based.\n",
    "\n",
    "`var[start:stop]`\n",
    "\n",
    "Takes `stop - start` characters from `var` starting at position `start`"
   ]
  },
  {
   "cell_type": "code",
   "execution_count": 11,
   "id": "20b9c512-b5ce-4366-8621-533cc3aa93dc",
   "metadata": {
    "tags": []
   },
   "outputs": [
    {
     "name": "stdout",
     "output_type": "stream",
     "text": [
      "fu\n",
      "dge\n",
      "fudg\n",
      "fudge\n",
      "fudg\n"
     ]
    }
   ],
   "source": [
    "x = \"fudge\"\n",
    "print(x[0:2]) # fu\n",
    "print(x[2:5]) # dge\n",
    "print(x[:4]) # fudg\n",
    "print(x[:]) # fudge\n",
    "print(x[:-1]) # fudg\n"
   ]
  },
  {
   "cell_type": "markdown",
   "id": "1517e983-b019-46f5-bccf-c8075c8bb99b",
   "metadata": {
    "tags": []
   },
   "source": [
    "## String Methods\n",
    "\n",
    "https://docs.python.org/3/library/stdtypes.html#text-sequence-type-str\n",
    "\n",
    "Method functions attach to the string   `x.strip()`\n",
    "\n",
    "Common methods\n",
    "```\n",
    "strip()\n",
    "upper()\n",
    "lower()\n",
    "find()\n",
    "count()\n",
    "split()\n",
    "join()\n",
    "replace()\n",
    "```\n"
   ]
  },
  {
   "cell_type": "code",
   "execution_count": 23,
   "id": "ba9cf811-e43a-4038-89b0-83284005cbd2",
   "metadata": {
    "tags": []
   },
   "outputs": [
    {
     "name": "stdout",
     "output_type": "stream",
     "text": [
      "2\n",
      "3\n",
      "THIS\n",
      "7\n",
      "0\n",
      "x\n",
      "that is a test\n"
     ]
    }
   ],
   "source": [
    "# Samples\n",
    "s = \"this is a test\"\n",
    "print(s.count(\"is\")) # 2\n",
    "print(s.count(\"t\"))  # 3\n",
    "print(s.upper()[:4]) # TEST\n",
    "print(s.find(\" a \")) # 7\n",
    "print(s.find(\"this\")) # 9\n",
    "print(\"   x   \".strip()) # x\n",
    "print(s.replace(\"this\",\"that\")) # that is a test"
   ]
  },
  {
   "cell_type": "markdown",
   "id": "865dd424-13bc-4945-94ed-4d5a191cc99f",
   "metadata": {},
   "source": [
    "## Challenge 1-3-2\n",
    "\n",
    "Write a function called `cleanup` which takes a string as input and returns a \"cleaned string\" meaning:\n",
    " - remove any ? , . or !\n",
    " - strip off the whitespace from the ends\n",
    " - return text in lower case\n",
    " \n",
    " write code to call your function and test it\n"
   ]
  },
  {
   "cell_type": "markdown",
   "id": "f9c0ae9b-1d65-43f8-9879-bacb2dc94c76",
   "metadata": {},
   "source": [
    "## String Tokenization and Parsing\n",
    "\n",
    "- **Tokenization**  is the process of breaking up a string into words, phrases, or symbols. \n",
    "    - Tokenize a sentence into words.\n",
    "    - `\"mike is here\"` becomes the iterable  `['mike','is','here']`\n",
    "- **Parsing** is the process of extracting meaning from a string. \n",
    "    - Parse text to a numerical value or date.\n",
    "    - `int('45')` becomes `45`"
   ]
  },
  {
   "cell_type": "code",
   "execution_count": 25,
   "id": "4c26d00b-7d0c-4d2b-a6b8-12678bfbeaae",
   "metadata": {
    "tags": []
   },
   "outputs": [
    {
     "name": "stdout",
     "output_type": "stream",
     "text": [
      "170\n"
     ]
    }
   ],
   "source": [
    "# tokeniize with split()\n",
    "# parse with int(), or float()\n",
    "\n",
    "text = \"30 40 90 10\"\n",
    "tokens = text.split()\n",
    "numbers = [int(t) for t in tokens]\n",
    "total = sum(numbers)\n",
    "print(total)"
   ]
  },
  {
   "cell_type": "code",
   "execution_count": 26,
   "id": "16bd2c6c-4b1b-444c-ac06-714deda84959",
   "metadata": {
    "tags": []
   },
   "outputs": [
    {
     "name": "stdout",
     "output_type": "stream",
     "text": [
      "['NAME', 'AGE', 'PHONE', 'GPA']\n"
     ]
    }
   ],
   "source": [
    "# What you split on is called the delimiter:\n",
    "text = \"name, age, phone, gpa\"\n",
    "items = [ x.upper().strip() for x in text.split(',') ]\n",
    "print(items)"
   ]
  },
  {
   "cell_type": "markdown",
   "id": "1fc9971f-1005-49dc-b66f-b47a01161e37",
   "metadata": {},
   "source": [
    "# Files\n",
    "\n",
    "- `with` statement / context manager\n",
    "- reading / writing text files (all at once, line at a time)\n",
    "- JSON serialization / de-serialization"
   ]
  },
  {
   "cell_type": "code",
   "execution_count": null,
   "id": "89ef8e74-ca3e-424e-ada5-39ae956d7258",
   "metadata": {},
   "outputs": [],
   "source": []
  },
  {
   "cell_type": "code",
   "execution_count": null,
   "id": "ee507e80-5ef3-4950-a6fa-f98176c103fd",
   "metadata": {},
   "outputs": [],
   "source": []
  }
 ],
 "metadata": {
  "kernelspec": {
   "display_name": "Python 3 (ipykernel)",
   "language": "python",
   "name": "python3"
  },
  "language_info": {
   "codemirror_mode": {
    "name": "ipython",
    "version": 3
   },
   "file_extension": ".py",
   "mimetype": "text/x-python",
   "name": "python",
   "nbconvert_exporter": "python",
   "pygments_lexer": "ipython3",
   "version": "3.11.7"
  }
 },
 "nbformat": 4,
 "nbformat_minor": 5
}
